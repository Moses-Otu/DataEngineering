{
  "nbformat": 4,
  "nbformat_minor": 0,
  "metadata": {
    "colab": {
      "provenance": [],
      "authorship_tag": "ABX9TyPV+pzet93xckrzFQXOlLwd",
      "include_colab_link": true
    },
    "kernelspec": {
      "name": "python3",
      "display_name": "Python 3"
    },
    "language_info": {
      "name": "python"
    }
  },
  "cells": [
    {
      "cell_type": "markdown",
      "metadata": {
        "id": "view-in-github",
        "colab_type": "text"
      },
      "source": [
        "<a href=\"https://colab.research.google.com/github/Moses-Otu/DataEngineering/blob/main/spotify.ipynb\" target=\"_parent\"><img src=\"https://colab.research.google.com/assets/colab-badge.svg\" alt=\"Open In Colab\"/></a>"
      ]
    },
    {
      "cell_type": "code",
      "execution_count": null,
      "metadata": {
        "id": "8e8S7vNX7Osz"
      },
      "outputs": [],
      "source": [
        "#import libraries\n",
        "import pandas as pd\n",
        "import numpy as np\n",
        "import matplotlib.pyplot as plt\n",
        "import seaborn as sns\n",
        "import datetime as dt\n",
        "import re\n",
        "import warnings\n",
        "warnings.filterwarnings('ignore')\n",
        "from sklearn.impute import KNNImputer\n",
        "from sklearn.preprocessing import LabelEncoder, StandardScaler\n",
        "import datetime as dt"
      ]
    },
    {
      "cell_type": "code",
      "source": [
        "df1=pd.read_csv('/content/spotify_data_dictionary.csv')\n",
        "df2=pd.read_csv('/content/spotify_history.csv')"
      ],
      "metadata": {
        "id": "5P1XbMAE7gSw"
      },
      "execution_count": null,
      "outputs": []
    },
    {
      "cell_type": "code",
      "source": [
        "df1.shape"
      ],
      "metadata": {
        "id": "DLtC3IOU71wn"
      },
      "execution_count": null,
      "outputs": []
    },
    {
      "cell_type": "code",
      "source": [
        "#Understing the imported data\n",
        "df1"
      ],
      "metadata": {
        "id": "IyHNORNM7u6G"
      },
      "execution_count": null,
      "outputs": []
    },
    {
      "cell_type": "code",
      "source": [
        "df2.shape"
      ],
      "metadata": {
        "id": "S7fKu-9N79K0"
      },
      "execution_count": null,
      "outputs": []
    },
    {
      "cell_type": "code",
      "source": [
        "df2.head()"
      ],
      "metadata": {
        "id": "DB68e2P38Ejl"
      },
      "execution_count": null,
      "outputs": []
    },
    {
      "cell_type": "code",
      "source": [
        "#rename columns\n",
        "df2.rename(columns={'ts':'timestamp','track_name':'track','artist_name':'artist','album_name':'album','reason_start':'start reason',\n",
        "                    'reason_end': 'end reason','ms_played':'most played min','spotify_track_uri':'track url'}, inplace=True)\n",
        "df2.columns"
      ],
      "metadata": {
        "id": "S8kUWVQM8GbV"
      },
      "execution_count": null,
      "outputs": []
    },
    {
      "cell_type": "code",
      "source": [
        "#converting milliseconds to minuites\n",
        "df2['most played min']=(df2['most played min']/60000).round(2)"
      ],
      "metadata": {
        "id": "VbUOc6M9iK5H"
      },
      "execution_count": null,
      "outputs": []
    },
    {
      "cell_type": "code",
      "source": [
        "#cleaning tracks column\n",
        "# Apply regex to remove \", /, -, #, and ' from the 'track' column\n",
        "df2['track'] = df2['track'].astype(str).apply(lambda x: re.sub(r'[\"/#\\'-]', '', x))\n"
      ],
      "metadata": {
        "id": "oqbXNvua1IO9"
      },
      "execution_count": null,
      "outputs": []
    },
    {
      "cell_type": "code",
      "source": [
        "#cleaning album column\n",
        "# Apply regex to remove \", /, -, #, and ' from the 'track' column\n",
        "df2['album'] = df2['album'].astype(str).apply(lambda x: re.sub(r'[\"/#\\'-]', '', x))"
      ],
      "metadata": {
        "id": "_o3WFZkR2BjH"
      },
      "execution_count": null,
      "outputs": []
    },
    {
      "cell_type": "code",
      "source": [
        "#casting the datetime column as type datetime\n",
        "df2['timestamp']=pd.to_datetime(df2['timestamp'])"
      ],
      "metadata": {
        "id": "8Jvn6HXAwCKG"
      },
      "execution_count": null,
      "outputs": []
    },
    {
      "cell_type": "code",
      "source": [
        "df2.info()"
      ],
      "metadata": {
        "id": "-RnsaKDtZ5YZ"
      },
      "execution_count": null,
      "outputs": []
    },
    {
      "cell_type": "code",
      "source": [
        "df2.describe()"
      ],
      "metadata": {
        "id": "3g3NCOdmIq6H"
      },
      "execution_count": null,
      "outputs": []
    },
    {
      "cell_type": "code",
      "source": [
        "df2.isnull().sum()"
      ],
      "metadata": {
        "id": "PN1c-dZHZyAU"
      },
      "execution_count": null,
      "outputs": []
    },
    {
      "cell_type": "code",
      "source": [
        "((df2.isnull().sum()/len(df2))*100).round(2)"
      ],
      "metadata": {
        "id": "ay_W7gCeazvx"
      },
      "execution_count": null,
      "outputs": []
    },
    {
      "cell_type": "code",
      "source": [
        "#dealing with nulls\n",
        "df2['start reason']=df2['start reason'].fillna('unknown')\n",
        "df2['end reason']=df2['end reason'].fillna('unknown')\n",
        "df2.isnull().sum()"
      ],
      "metadata": {
        "id": "T-4XSRb8htE7"
      },
      "execution_count": null,
      "outputs": []
    },
    {
      "cell_type": "markdown",
      "source": [
        "### **EXPLORATORY DATA ANALYSIS**"
      ],
      "metadata": {
        "id": "ExwWFzl1kY_W"
      }
    },
    {
      "cell_type": "code",
      "source": [
        "#who are the most listened to artist\n",
        "df2.groupby('artist')['most played min'].sum().sort_values(ascending=False).reset_index().head(10)"
      ],
      "metadata": {
        "id": "vhXHGZSmj3Ik"
      },
      "execution_count": null,
      "outputs": []
    },
    {
      "cell_type": "code",
      "source": [
        "#what are the most listened to songs\n",
        "df2.groupby('track')['most played min'].sum().sort_values(ascending=False).reset_index().head(10)"
      ],
      "metadata": {
        "id": "sRcirsF_llLr"
      },
      "execution_count": null,
      "outputs": []
    },
    {
      "cell_type": "code",
      "source": [
        "#comparing most played artist and track\n",
        "df2.groupby(['track','artist'])['most played min'].sum().sort_values(ascending=False).reset_index().head(6)"
      ],
      "metadata": {
        "id": "F40q-LiSmRhd"
      },
      "execution_count": null,
      "outputs": []
    },
    {
      "cell_type": "markdown",
      "source": [
        "Analysis above shows that most listened to artists may not neccessarily mean they have the most streamed tracks"
      ],
      "metadata": {
        "id": "79gvNc-Mn_AG"
      }
    },
    {
      "cell_type": "code",
      "source": [
        "df2_fil = df2[['artist','track','most played min','album']][df2['artist'].isin([\"The Beatles\"])]\n",
        "df2_fil"
      ],
      "metadata": {
        "id": "-3o_Ql60nlJg"
      },
      "execution_count": null,
      "outputs": []
    },
    {
      "cell_type": "markdown",
      "source": [
        "Calculating the percentage contribution of an artist's top track to their total streams. This will show if their success is due to a single track or multiple popular tracks:"
      ],
      "metadata": {
        "id": "6O5QosgueZRh"
      }
    },
    {
      "cell_type": "code",
      "source": [
        "artist_total=df2.groupby('artist')['most played min'].sum().sort_values(ascending=False).reset_index()\n",
        "track_contrib=df2.groupby(['artist','track'])['most played min'].sum().sort_values(ascending=False).reset_index()\n",
        "\n",
        "merged = track_contrib.merge(artist_total, on='artist',suffixes=('_track', '_artist'))\n",
        "merged\n"
      ],
      "metadata": {
        "id": "L7Ikfn3bF-qz"
      },
      "execution_count": null,
      "outputs": []
    },
    {
      "cell_type": "code",
      "source": [
        "merged['track_contribution'] = (merged['most played min_track'] / merged['most played min_artist']) * 100\n",
        "\n",
        "#filtered = merged[merged['artist'].isin(['The Strokes'])]\n",
        "merged.head(10)"
      ],
      "metadata": {
        "id": "scALAOadz762"
      },
      "execution_count": null,
      "outputs": []
    },
    {
      "cell_type": "code",
      "source": [
        "#Artists with one hit singles --artists with contribution >80%\n",
        "onehitsingle = merged.sort_values('track_contribution',ascending=False)\n",
        "onehitsingle"
      ],
      "metadata": {
        "id": "MEVXr5-VThji"
      },
      "execution_count": null,
      "outputs": []
    },
    {
      "cell_type": "code",
      "source": [
        "#most used spotify streaming platform\n",
        "mostusedplatform=df2.groupby('platform')['most played min'].sum().sort_values(ascending=False).reset_index()\n",
        "mostusedplatform"
      ],
      "metadata": {
        "id": "q9y1ywW5flzc"
      },
      "execution_count": null,
      "outputs": []
    },
    {
      "cell_type": "code",
      "source": [
        "# Plot the bar chart\n",
        "plt.figure(figsize=(10, 6))\n",
        "plt.bar(mostusedplatform['platform'], mostusedplatform['most played min'], color='skyblue')\n",
        "\n",
        "# Add labels and title\n",
        "plt.xlabel('Platform', fontsize=12)\n",
        "plt.ylabel('Total Plays', fontsize=12)\n",
        "plt.title('Most Used Platforms by Total Plays', fontsize=14)\n",
        "plt.xticks(rotation=45, fontsize=10)\n",
        "plt.tight_layout()\n",
        "\n",
        "# Show the chart\n",
        "plt.show()"
      ],
      "metadata": {
        "id": "Bs1MSPTrlZR6"
      },
      "execution_count": null,
      "outputs": []
    },
    {
      "cell_type": "code",
      "source": [
        "df2['album'].nunique()"
      ],
      "metadata": {
        "id": "lndnSnP2l7zb"
      },
      "execution_count": null,
      "outputs": []
    },
    {
      "cell_type": "code",
      "source": [
        "#most played albums\n",
        "mostplayedalbum=df2.groupby(['album','artist'])['most played min'].sum().sort_values(ascending=False).reset_index().head(10)\n",
        "mostplayedalbum"
      ],
      "metadata": {
        "id": "snu70ScYmVyV"
      },
      "execution_count": null,
      "outputs": []
    },
    {
      "cell_type": "code",
      "source": [
        "#What are the most listened to tracks on the album\n",
        "# Group by album, track, and artist, then sum the plays\n",
        "pp = df2.groupby(['album', 'track', 'artist'])['most played min'].sum().reset_index()\n",
        "\n",
        "# Filter for \"The Beatles\"\n",
        "#pp = pp[pp['artist'] == 'The Beatles']\n",
        "\n",
        "# Sort by track in ascending order\n",
        "#pp = pp.sort_values('track', ascending=True)\n",
        "pp = pp.sort_values(['album', 'most played min'], ascending=[True, False])\n",
        "\n",
        "# Display the top 10 popular tracks for The Beatles\n",
        "pp.head(10)\n"
      ],
      "metadata": {
        "id": "KUc1pOq2ycyt"
      },
      "execution_count": null,
      "outputs": []
    },
    {
      "cell_type": "markdown",
      "source": [
        "Feature Engineering to generate more insight"
      ],
      "metadata": {
        "id": "sQiH_RE-vfIc"
      }
    },
    {
      "cell_type": "code",
      "source": [
        "df2['Dayoftheweek']=df2['timestamp'].dt.day_name()"
      ],
      "metadata": {
        "id": "aeiYU3_X011u"
      },
      "execution_count": null,
      "outputs": []
    },
    {
      "cell_type": "code",
      "source": [
        "#analysis on weekday and streaming\n",
        "day_wise_plays = df2.groupby('Dayoftheweek')['most played min'].sum().sort_values(ascending=False).reset_index()"
      ],
      "metadata": {
        "id": "1k2wvVkE1OQt"
      },
      "execution_count": null,
      "outputs": []
    },
    {
      "cell_type": "code",
      "source": [
        "#order day of the week\n",
        "day_wise_plays['Dayoftheweek'] = pd.Categorical(day_wise_plays['Dayoftheweek'], categories=[\n",
        "    'Monday', 'Tuesday', 'Wednesday', 'Thursday', 'Friday', 'Saturday', 'Sunday'], ordered=True)\n",
        "\n",
        "# Sort and reset index\n",
        "day_wise_plays = day_wise_plays.sort_values('Dayoftheweek').reset_index(drop=True)\n",
        "\n",
        "day_wise_plays"
      ],
      "metadata": {
        "id": "nEimoKUK2mn4"
      },
      "execution_count": null,
      "outputs": []
    },
    {
      "cell_type": "code",
      "source": [
        "#linechart\n",
        "\n",
        "plt.figure(figsize=(10, 6))\n",
        "sns.lineplot(x='Dayoftheweek', y='most played min', data=day_wise_plays.groupby('Dayoftheweek')['most played min'].sum().sort_values(ascending=False).reset_index())\n",
        "plt.xlabel('Day of the week')\n",
        "plt.ylabel('Total minutes played')\n",
        "plt.title('Total minutes played per day of the week')\n",
        "plt.show()\n"
      ],
      "metadata": {
        "id": "ozEkPUbj1Ra2"
      },
      "execution_count": null,
      "outputs": []
    },
    {
      "cell_type": "code",
      "source": [
        "#analysis on streaming per month\n",
        "df2['month']=df2['timestamp'].dt.month_name()"
      ],
      "metadata": {
        "id": "YTzEqLmb3LSa"
      },
      "execution_count": null,
      "outputs": []
    },
    {
      "cell_type": "code",
      "source": [
        "#analysis on weekday and streaming\n",
        "month_wise_plays = df2.groupby('month')['most played min'].sum().reset_index()\n",
        "\n",
        "month_wise_plays['month'] = pd.Categorical(month_wise_plays['month'], categories=[\n",
        "    'January', 'February', 'March', 'April', 'May', 'June', 'July', 'August', 'September', 'October', 'November', 'December'], ordered=True)\n",
        "#sort\n",
        "month_wise_plays = month_wise_plays.sort_values('month').reset_index(drop=True)\n",
        "month_wise_plays\n"
      ],
      "metadata": {
        "id": "0ohttrR4_pmy"
      },
      "execution_count": null,
      "outputs": []
    },
    {
      "cell_type": "code",
      "source": [
        "#linechart\n",
        "\n",
        "plt.figure(figsize=(10, 6))\n",
        "sns.lineplot(x='month', y='most played min', data=month_wise_plays.groupby('month')['most played min'].sum().sort_values(ascending=False).reset_index())\n",
        "plt.xlabel('Day of the week')\n",
        "plt.ylabel('Total minutes played')\n",
        "plt.title('Total minutes played per month of the year')\n",
        "plt.show()\n"
      ],
      "metadata": {
        "id": "MUpz6Px4AoB5"
      },
      "execution_count": null,
      "outputs": []
    },
    {
      "cell_type": "code",
      "source": [
        "#what time of the day has more streaming?\n",
        "df2['hour']=df2['timestamp'].dt.hour\n",
        "#assigning time of day\n",
        "def time_of_day(hour):\n",
        "    if 6 >= hour < 12:\n",
        "        return 'Morning'\n",
        "    elif 12 >= hour < 17:\n",
        "        return 'Afternoon'\n",
        "    elif 17 >= hour < 21:\n",
        "        return 'Evening'\n",
        "    else:\n",
        "        return 'Night'\n",
        "\n",
        "# Apply the function to the 'hour' column to create a new 'time_of_day' column\n",
        "df2['time_of_day'] = df2['hour'].apply(time_of_day)\n",
        "df2.groupby('time_of_day')['most played min'].sum().sort_values(ascending=False).reset_index()"
      ],
      "metadata": {
        "id": "45HMBRDvCC1T"
      },
      "execution_count": null,
      "outputs": []
    },
    {
      "cell_type": "code",
      "source": [
        "#what time of day do we have more streams in october\n",
        "october_df=df2[df2['month']=='October']\n",
        "oct_fill=october_df.groupby('month')['time_of_day'].value_counts().reset_index()\n",
        "oct_fill"
      ],
      "metadata": {
        "id": "K7gL1-3rF8yf"
      },
      "execution_count": null,
      "outputs": []
    },
    {
      "cell_type": "code",
      "source": [
        "# Plot the bar chart\n",
        "plt.figure(figsize=(10, 6))\n",
        "plt.bar(oct_fill['time_of_day'], oct_fill['count'], color='pink')\n",
        "\n",
        "# Add labels and title\n",
        "plt.xlabel('time_of_day', fontsize=12)\n",
        "plt.ylabel('count', fontsize=12)\n",
        "plt.title('Most Used Platforms by Total Plays', fontsize=14)\n",
        "plt.xticks(rotation=45, fontsize=10)\n",
        "plt.tight_layout()\n",
        "\n",
        "# Show the chart\n",
        "plt.show()"
      ],
      "metadata": {
        "id": "c0z4IkXBJksE"
      },
      "execution_count": null,
      "outputs": []
    },
    {
      "cell_type": "code",
      "source": [],
      "metadata": {
        "id": "LOCoMWH0KWoN"
      },
      "execution_count": null,
      "outputs": []
    }
  ]
}